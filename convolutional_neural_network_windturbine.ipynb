{
 "cells": [
  {
   "cell_type": "markdown",
   "metadata": {
    "colab_type": "text",
    "id": "3DR-eO17geWu"
   },
   "source": [
    "# Convolutional Neural Network"
   ]
  },
  {
   "cell_type": "markdown",
   "metadata": {
    "colab_type": "text",
    "id": "EMefrVPCg-60"
   },
   "source": [
    "### Importing the libraries"
   ]
  },
  {
   "cell_type": "code",
   "execution_count": 1,
   "metadata": {
    "colab": {},
    "colab_type": "code",
    "id": "sCV30xyVhFbE"
   },
   "outputs": [],
   "source": [
    "import tensorflow as tf\n",
    "from tensorflow.keras.preprocessing.image import ImageDataGenerator"
   ]
  },
  {
   "cell_type": "code",
   "execution_count": 2,
   "metadata": {
    "colab": {},
    "colab_type": "code",
    "id": "FIleuCAjoFD8"
   },
   "outputs": [
    {
     "data": {
      "text/plain": [
       "'2.1.0'"
      ]
     },
     "execution_count": 2,
     "metadata": {},
     "output_type": "execute_result"
    }
   ],
   "source": [
    "tf.__version__"
   ]
  },
  {
   "cell_type": "markdown",
   "metadata": {
    "colab_type": "text",
    "id": "oxQxCBWyoGPE"
   },
   "source": [
    "## Part 1 - Data Preprocessing"
   ]
  },
  {
   "cell_type": "code",
   "execution_count": 3,
   "metadata": {},
   "outputs": [
    {
     "name": "stdout",
     "output_type": "stream",
     "text": [
      "importing Jupyter notebook from image_dataset_import.ipynb\n"
     ]
    },
    {
     "name": "stderr",
     "output_type": "stream",
     "text": [
      "/home/tbroethaler/.conda/envs/machine_learning/lib/python3.6/site-packages/rasterio/__init__.py:193: UserWarning: Dataset has no geotransform set.  Default transform will be applied (Affine.identity())\n",
      "  s.start()\n"
     ]
    }
   ],
   "source": [
    "import import_ipynb\n",
    "from image_dataset_import import ImagesDataset\n",
    "from pathlib import Path\n",
    "dataset = ImagesDataset(selection_windturbine_paths=[Path(\"/data/projects/windturbine-identification-sentinel/croppedTiles/us-uswtdb_selection_windturbines\")], \n",
    "                             selection_no_windturbine_paths=[Path(\"/data/projects/windturbine-identification-sentinel/croppedTiles/selection_no-windturbines\")],\n",
    "                             categories_windturbine_crops=[3], categories_no_windturbine_crops=[2], image_bands=[\"B02\", \"B03\", \"B04\", \"B08\"])\n",
    "X, y = dataset.create_wt_identification_data()"
   ]
  },
  {
   "cell_type": "code",
   "execution_count": 5,
   "metadata": {},
   "outputs": [
    {
     "data": {
      "text/plain": [
       "['7',\n",
       " '10',\n",
       " '13',\n",
       " '17',\n",
       " '19',\n",
       " '20',\n",
       " '21',\n",
       " '22',\n",
       " '23',\n",
       " '24',\n",
       " '25',\n",
       " '27',\n",
       " '28',\n",
       " '29',\n",
       " '30',\n",
       " '31',\n",
       " '32',\n",
       " '33',\n",
       " '34',\n",
       " '35',\n",
       " '36',\n",
       " '37',\n",
       " '38',\n",
       " '39',\n",
       " '40',\n",
       " '41',\n",
       " '42',\n",
       " '43',\n",
       " '44',\n",
       " '45',\n",
       " '46',\n",
       " '47',\n",
       " '48',\n",
       " '50',\n",
       " '51',\n",
       " '53',\n",
       " '54',\n",
       " '55',\n",
       " '56',\n",
       " '57',\n",
       " '58',\n",
       " '59',\n",
       " '60',\n",
       " '61',\n",
       " '62',\n",
       " '63',\n",
       " '64',\n",
       " '65',\n",
       " '66',\n",
       " '67',\n",
       " '68',\n",
       " '69',\n",
       " '70',\n",
       " '71',\n",
       " '80',\n",
       " '82',\n",
       " '83',\n",
       " '84',\n",
       " '85',\n",
       " '86',\n",
       " '87',\n",
       " '88',\n",
       " '89',\n",
       " '90',\n",
       " '93',\n",
       " '94',\n",
       " '95',\n",
       " '96',\n",
       " '97',\n",
       " '98',\n",
       " '99',\n",
       " '100',\n",
       " '101',\n",
       " '102',\n",
       " '103',\n",
       " '104',\n",
       " '105',\n",
       " '106',\n",
       " '107',\n",
       " '110',\n",
       " '113',\n",
       " '114',\n",
       " '116',\n",
       " '117',\n",
       " '118',\n",
       " '122',\n",
       " '123',\n",
       " '124',\n",
       " '125',\n",
       " '132',\n",
       " '135',\n",
       " '138',\n",
       " '140',\n",
       " '141',\n",
       " '144',\n",
       " '145',\n",
       " '146',\n",
       " '147',\n",
       " '148',\n",
       " '149',\n",
       " '152',\n",
       " '155',\n",
       " '157',\n",
       " '158',\n",
       " '160',\n",
       " '162',\n",
       " '163',\n",
       " '164',\n",
       " '165',\n",
       " '166',\n",
       " '168',\n",
       " '171',\n",
       " '174',\n",
       " '176',\n",
       " '177',\n",
       " '178',\n",
       " '181',\n",
       " '182',\n",
       " '187',\n",
       " '188',\n",
       " '189',\n",
       " '190',\n",
       " '191',\n",
       " '192',\n",
       " '195',\n",
       " '196',\n",
       " '197',\n",
       " '198',\n",
       " '201',\n",
       " '202',\n",
       " '203',\n",
       " '204',\n",
       " '205',\n",
       " '208',\n",
       " '209',\n",
       " '210',\n",
       " '211',\n",
       " '212',\n",
       " '213',\n",
       " '214',\n",
       " '215',\n",
       " '216',\n",
       " '218',\n",
       " '219',\n",
       " '220',\n",
       " '221',\n",
       " '222',\n",
       " '223',\n",
       " '226',\n",
       " '227',\n",
       " '228',\n",
       " '229',\n",
       " '230',\n",
       " '231',\n",
       " '232',\n",
       " '233',\n",
       " '234',\n",
       " '235',\n",
       " '236',\n",
       " '237',\n",
       " '238',\n",
       " '239',\n",
       " '240',\n",
       " '241',\n",
       " '243',\n",
       " '244',\n",
       " '245',\n",
       " '246',\n",
       " '247',\n",
       " '248',\n",
       " '249',\n",
       " '250',\n",
       " '251',\n",
       " '252',\n",
       " '253',\n",
       " '255',\n",
       " '259',\n",
       " '261',\n",
       " '262',\n",
       " '264',\n",
       " '265',\n",
       " '266',\n",
       " '269',\n",
       " '270',\n",
       " '271',\n",
       " '272',\n",
       " '273',\n",
       " '274',\n",
       " '275',\n",
       " '276',\n",
       " '279',\n",
       " '281',\n",
       " '282',\n",
       " '283',\n",
       " '284',\n",
       " '285',\n",
       " '286',\n",
       " '287',\n",
       " '289',\n",
       " '290',\n",
       " '293',\n",
       " '295',\n",
       " '297',\n",
       " '298',\n",
       " '300',\n",
       " '303',\n",
       " '304',\n",
       " '305',\n",
       " '306',\n",
       " '307',\n",
       " '308',\n",
       " '310',\n",
       " '311',\n",
       " '313',\n",
       " '314',\n",
       " '315',\n",
       " '316',\n",
       " '318',\n",
       " '319',\n",
       " '320',\n",
       " '321',\n",
       " '322',\n",
       " '326',\n",
       " '328',\n",
       " '329',\n",
       " '331',\n",
       " '334',\n",
       " '335',\n",
       " '336',\n",
       " '337',\n",
       " '339',\n",
       " '340',\n",
       " '341',\n",
       " '342',\n",
       " '343',\n",
       " '345',\n",
       " '346',\n",
       " '347',\n",
       " '348',\n",
       " '350',\n",
       " '352',\n",
       " '354',\n",
       " '356',\n",
       " '357',\n",
       " '358',\n",
       " '359',\n",
       " '361',\n",
       " '363',\n",
       " '365',\n",
       " '366',\n",
       " '367',\n",
       " '368',\n",
       " '369',\n",
       " '370',\n",
       " '371',\n",
       " '373',\n",
       " '374',\n",
       " '375',\n",
       " '376',\n",
       " '377',\n",
       " '380',\n",
       " '383',\n",
       " '384',\n",
       " '386',\n",
       " '387',\n",
       " '388',\n",
       " '389',\n",
       " '390',\n",
       " '391',\n",
       " '394',\n",
       " '396',\n",
       " '398',\n",
       " '399',\n",
       " '400',\n",
       " '402',\n",
       " '404',\n",
       " '405',\n",
       " '407',\n",
       " '409',\n",
       " '410',\n",
       " '411',\n",
       " '412',\n",
       " '413',\n",
       " '416',\n",
       " '417',\n",
       " '422',\n",
       " '423',\n",
       " '424',\n",
       " '425',\n",
       " '426',\n",
       " '428',\n",
       " '431',\n",
       " '432',\n",
       " '433',\n",
       " '435',\n",
       " '436',\n",
       " '437',\n",
       " '439',\n",
       " '441',\n",
       " '442',\n",
       " '443',\n",
       " '445',\n",
       " '446',\n",
       " '447',\n",
       " '448',\n",
       " '449',\n",
       " '450',\n",
       " '452',\n",
       " '453',\n",
       " '454',\n",
       " '455',\n",
       " '457',\n",
       " '459',\n",
       " '460',\n",
       " '463',\n",
       " '465',\n",
       " '466',\n",
       " '467',\n",
       " '468',\n",
       " '469',\n",
       " '471',\n",
       " '472',\n",
       " '473',\n",
       " '474',\n",
       " '475',\n",
       " '477',\n",
       " '478',\n",
       " '479',\n",
       " '480',\n",
       " '482',\n",
       " '483',\n",
       " '485',\n",
       " '487',\n",
       " '488',\n",
       " '491',\n",
       " '493',\n",
       " '494',\n",
       " '495',\n",
       " '496',\n",
       " '497',\n",
       " '498',\n",
       " '499',\n",
       " '500',\n",
       " '501',\n",
       " '503',\n",
       " '504',\n",
       " '505',\n",
       " '507',\n",
       " '509',\n",
       " '510',\n",
       " '511',\n",
       " '512',\n",
       " '513',\n",
       " '514',\n",
       " '515',\n",
       " '516',\n",
       " '517',\n",
       " '518',\n",
       " '519',\n",
       " '520',\n",
       " '522',\n",
       " '523',\n",
       " '524',\n",
       " '525',\n",
       " '526',\n",
       " '527',\n",
       " '528',\n",
       " '529',\n",
       " '531',\n",
       " '532',\n",
       " '533',\n",
       " '534',\n",
       " '536',\n",
       " '537',\n",
       " '539',\n",
       " '540',\n",
       " '541',\n",
       " '542',\n",
       " '543',\n",
       " '544',\n",
       " '545',\n",
       " '547',\n",
       " '548',\n",
       " '550',\n",
       " '551',\n",
       " '552',\n",
       " '553',\n",
       " '554',\n",
       " '556',\n",
       " '557',\n",
       " '559',\n",
       " '562',\n",
       " '563',\n",
       " '564',\n",
       " '565',\n",
       " '566',\n",
       " '567',\n",
       " '568',\n",
       " '569',\n",
       " '570',\n",
       " '571',\n",
       " '572',\n",
       " '573',\n",
       " '574',\n",
       " '576',\n",
       " '577',\n",
       " '578',\n",
       " '579',\n",
       " '580',\n",
       " '581',\n",
       " '583',\n",
       " '584',\n",
       " '585',\n",
       " '588',\n",
       " '589',\n",
       " '590',\n",
       " '591',\n",
       " '592',\n",
       " '593',\n",
       " '594',\n",
       " '595',\n",
       " '596',\n",
       " '597',\n",
       " '598',\n",
       " '599',\n",
       " '602',\n",
       " '603',\n",
       " '604',\n",
       " '606',\n",
       " '607',\n",
       " '608',\n",
       " '609',\n",
       " '610',\n",
       " '611',\n",
       " '612',\n",
       " '613',\n",
       " '614',\n",
       " '616',\n",
       " '617',\n",
       " '618',\n",
       " '619',\n",
       " '622',\n",
       " '624',\n",
       " '625',\n",
       " '626',\n",
       " '628',\n",
       " '629',\n",
       " '630',\n",
       " '631',\n",
       " '632',\n",
       " '633',\n",
       " '636',\n",
       " '637',\n",
       " '638',\n",
       " '639',\n",
       " '644',\n",
       " '645',\n",
       " '646',\n",
       " '647',\n",
       " '648',\n",
       " '650',\n",
       " '657',\n",
       " '658',\n",
       " '659',\n",
       " '660',\n",
       " '661',\n",
       " '662',\n",
       " '663',\n",
       " '664',\n",
       " '665',\n",
       " '666',\n",
       " '668',\n",
       " '670',\n",
       " '671',\n",
       " '718',\n",
       " '728',\n",
       " '731',\n",
       " '742',\n",
       " '756',\n",
       " '830',\n",
       " '854',\n",
       " '860',\n",
       " '870',\n",
       " '873',\n",
       " '875',\n",
       " '877',\n",
       " '879',\n",
       " '880',\n",
       " '881',\n",
       " '889',\n",
       " '899',\n",
       " '900',\n",
       " '911',\n",
       " '918',\n",
       " '919',\n",
       " '926',\n",
       " '936',\n",
       " '941',\n",
       " '943',\n",
       " '945',\n",
       " '946',\n",
       " '948',\n",
       " '957',\n",
       " '963',\n",
       " '967',\n",
       " '972',\n",
       " '974',\n",
       " '975',\n",
       " '979',\n",
       " '984',\n",
       " '988',\n",
       " '995',\n",
       " '1000',\n",
       " '1010',\n",
       " '1011',\n",
       " '1012',\n",
       " '1013',\n",
       " '1014',\n",
       " '1015',\n",
       " '1017',\n",
       " '1018',\n",
       " '1019',\n",
       " '1020',\n",
       " '1021',\n",
       " '1022',\n",
       " '1023',\n",
       " '1024',\n",
       " '1025',\n",
       " '1026',\n",
       " '1027',\n",
       " '1030',\n",
       " '1032',\n",
       " '1035',\n",
       " '1036',\n",
       " '1038',\n",
       " '1039',\n",
       " '1041',\n",
       " '1042',\n",
       " '1043',\n",
       " '1044',\n",
       " '1045',\n",
       " '1048',\n",
       " '1050',\n",
       " '1052',\n",
       " '1053',\n",
       " '1054',\n",
       " '1056',\n",
       " '1057',\n",
       " '1060',\n",
       " '1061',\n",
       " '1062',\n",
       " '1063',\n",
       " '1064',\n",
       " '1066',\n",
       " '1068',\n",
       " '1069',\n",
       " '1070',\n",
       " '1072',\n",
       " '1073',\n",
       " '1075',\n",
       " '1076',\n",
       " '1077',\n",
       " '1078',\n",
       " '1079',\n",
       " '1080',\n",
       " '1081',\n",
       " '1082',\n",
       " '1084',\n",
       " '1086',\n",
       " '1087',\n",
       " '1088',\n",
       " '1089',\n",
       " '1090',\n",
       " '1092',\n",
       " '1094',\n",
       " '1095',\n",
       " '1096',\n",
       " '1097',\n",
       " '1098',\n",
       " '1099',\n",
       " '1100',\n",
       " '1102',\n",
       " '1103',\n",
       " '1104',\n",
       " '1106',\n",
       " '1108',\n",
       " '1109',\n",
       " '1119',\n",
       " '1124',\n",
       " '1125',\n",
       " '1126',\n",
       " '1128',\n",
       " '1130',\n",
       " '1131',\n",
       " '1134',\n",
       " '1137',\n",
       " '1138',\n",
       " '1139',\n",
       " '1143',\n",
       " '1145',\n",
       " '1146',\n",
       " '1148',\n",
       " '1149',\n",
       " '1152',\n",
       " '1153',\n",
       " '1154',\n",
       " '1156',\n",
       " '1157',\n",
       " '1158',\n",
       " '1159',\n",
       " '1160',\n",
       " '1161',\n",
       " '1162',\n",
       " '1164',\n",
       " '1165',\n",
       " '1168',\n",
       " '1170',\n",
       " '1171',\n",
       " '1172',\n",
       " '1173',\n",
       " '1176',\n",
       " '1182',\n",
       " '1183',\n",
       " '1215',\n",
       " '1222',\n",
       " '1235',\n",
       " '1253',\n",
       " '1274',\n",
       " '1277',\n",
       " '1284',\n",
       " '1286',\n",
       " '1287',\n",
       " '1289',\n",
       " '1292',\n",
       " '1293',\n",
       " '1294',\n",
       " '1296',\n",
       " '1298',\n",
       " '1299',\n",
       " '1301',\n",
       " '1302',\n",
       " '1305',\n",
       " '1306',\n",
       " '1308',\n",
       " '1312',\n",
       " '1313',\n",
       " '1314',\n",
       " '1315',\n",
       " '1316',\n",
       " '1318',\n",
       " '1319',\n",
       " '1320',\n",
       " '1321',\n",
       " '1325',\n",
       " '1326',\n",
       " '1327',\n",
       " '1329',\n",
       " '1333',\n",
       " '1334',\n",
       " '1335',\n",
       " '1336',\n",
       " '1337',\n",
       " '1338',\n",
       " '1341',\n",
       " '1342',\n",
       " '1344',\n",
       " '1346',\n",
       " '1348',\n",
       " '1354',\n",
       " '1355',\n",
       " '1356',\n",
       " '1479',\n",
       " '1480',\n",
       " '1483',\n",
       " '1491',\n",
       " '1495',\n",
       " '1499',\n",
       " '1506',\n",
       " '1511',\n",
       " '1514',\n",
       " '1515',\n",
       " '1524',\n",
       " '1525',\n",
       " '1531',\n",
       " '1544',\n",
       " '1554',\n",
       " '1558',\n",
       " '1573',\n",
       " '1574',\n",
       " '1578',\n",
       " '1580',\n",
       " '1583',\n",
       " '1584',\n",
       " '1590',\n",
       " '1593',\n",
       " '1594',\n",
       " '1596',\n",
       " '1607',\n",
       " '1610',\n",
       " '1623',\n",
       " '1624',\n",
       " '1625',\n",
       " '1643',\n",
       " '1650',\n",
       " '1652',\n",
       " '1653',\n",
       " '1662',\n",
       " '1666',\n",
       " '1679',\n",
       " '1693',\n",
       " '1729',\n",
       " '1731',\n",
       " '1732',\n",
       " '1733',\n",
       " '1734',\n",
       " '1735',\n",
       " '1736',\n",
       " '1737',\n",
       " '1738',\n",
       " '1739',\n",
       " '1740',\n",
       " '1741',\n",
       " '1742',\n",
       " '1743',\n",
       " '1746',\n",
       " '1747',\n",
       " '1748',\n",
       " '1750',\n",
       " '1752',\n",
       " '1753',\n",
       " '1754',\n",
       " '1756',\n",
       " '1757',\n",
       " '1761',\n",
       " '1762',\n",
       " '1763',\n",
       " '1765',\n",
       " '1766',\n",
       " '1767',\n",
       " '1770',\n",
       " '1772',\n",
       " '1775',\n",
       " '1777',\n",
       " '1778',\n",
       " '1779',\n",
       " '1780',\n",
       " '1781',\n",
       " '1782',\n",
       " '1785',\n",
       " '1786',\n",
       " '1788',\n",
       " '1789',\n",
       " '1790',\n",
       " '1791',\n",
       " '1792',\n",
       " '1794',\n",
       " '1797',\n",
       " '1798',\n",
       " '1819',\n",
       " '1820',\n",
       " '1821',\n",
       " '1822',\n",
       " '1823',\n",
       " '1824',\n",
       " '1825',\n",
       " '1826',\n",
       " '1827',\n",
       " '1828',\n",
       " '1833',\n",
       " '1834',\n",
       " '1837',\n",
       " '1838',\n",
       " '1839',\n",
       " '1840',\n",
       " '1841',\n",
       " '1842',\n",
       " '1843',\n",
       " '1844',\n",
       " '1845',\n",
       " '1846',\n",
       " '1847',\n",
       " '1848',\n",
       " '1851',\n",
       " '1854',\n",
       " '1856',\n",
       " '1858',\n",
       " '1860',\n",
       " '1866',\n",
       " '1868',\n",
       " '1871',\n",
       " '1875',\n",
       " '1878',\n",
       " '1881',\n",
       " '1883',\n",
       " '1885',\n",
       " '1888',\n",
       " '1890',\n",
       " '1896',\n",
       " '1897',\n",
       " '1900',\n",
       " '1902',\n",
       " '1903',\n",
       " '1904',\n",
       " '1911',\n",
       " '1913',\n",
       " '1914',\n",
       " '1917',\n",
       " '1918',\n",
       " '1924',\n",
       " '1925',\n",
       " '1929',\n",
       " '1933',\n",
       " '1936',\n",
       " '1937',\n",
       " '1939',\n",
       " '1940',\n",
       " '1941',\n",
       " '1944',\n",
       " '1946',\n",
       " '1948',\n",
       " '1949',\n",
       " '1951',\n",
       " '1955',\n",
       " '1956',\n",
       " '1957',\n",
       " '1958',\n",
       " '1960',\n",
       " '1963',\n",
       " '1965',\n",
       " '1969',\n",
       " '2010',\n",
       " '2014',\n",
       " '2016',\n",
       " '2017',\n",
       " '2019',\n",
       " '2020',\n",
       " '2021',\n",
       " '2022',\n",
       " '2023',\n",
       " '2024',\n",
       " '2026',\n",
       " '2029',\n",
       " '2031',\n",
       " '2032',\n",
       " '2033',\n",
       " '2034',\n",
       " '2037',\n",
       " '2038',\n",
       " '2039',\n",
       " '2044',\n",
       " '2045',\n",
       " '2046',\n",
       " '2047',\n",
       " '2048',\n",
       " '2050',\n",
       " '2052',\n",
       " '2053',\n",
       " '2054',\n",
       " '2058',\n",
       " '2059',\n",
       " '2060',\n",
       " '2061',\n",
       " '2064',\n",
       " '2066',\n",
       " '2070',\n",
       " '2071',\n",
       " '2076',\n",
       " '2077',\n",
       " '2078',\n",
       " '2079',\n",
       " '2082',\n",
       " '2084',\n",
       " '2086',\n",
       " '2087',\n",
       " '2088',\n",
       " '2089',\n",
       " '2090',\n",
       " '2091',\n",
       " '2093',\n",
       " '2100',\n",
       " '2102',\n",
       " '2103',\n",
       " '2104',\n",
       " '2105',\n",
       " '2107',\n",
       " '2108',\n",
       " '2111',\n",
       " '2115',\n",
       " '2116',\n",
       " '2117',\n",
       " '2118',\n",
       " '2121',\n",
       " '2124',\n",
       " '2125',\n",
       " '2126',\n",
       " '2127',\n",
       " '2132',\n",
       " '2133',\n",
       " '2134',\n",
       " '2135',\n",
       " '2138',\n",
       " '2140',\n",
       " '2142',\n",
       " '2143',\n",
       " '2144',\n",
       " '2147',\n",
       " '2148',\n",
       " '2151',\n",
       " '2153',\n",
       " '2154',\n",
       " '2158',\n",
       " '2159',\n",
       " '2162',\n",
       " '2164',\n",
       " '2168',\n",
       " '2169',\n",
       " '2173',\n",
       " '2175',\n",
       " '2178',\n",
       " '2180',\n",
       " '2183',\n",
       " '2185',\n",
       " '2187',\n",
       " '2188',\n",
       " '2189',\n",
       " '2193',\n",
       " '2195',\n",
       " '2196',\n",
       " '2198',\n",
       " '2199',\n",
       " '2201',\n",
       " '2203',\n",
       " '2204',\n",
       " '2206',\n",
       " '2208',\n",
       " '2209',\n",
       " '2210',\n",
       " '2215',\n",
       " '2217',\n",
       " '2218',\n",
       " '2219',\n",
       " '2221',\n",
       " '2222',\n",
       " '2223',\n",
       " '2225',\n",
       " '2226',\n",
       " '2228',\n",
       " '2230',\n",
       " '2231',\n",
       " '2232',\n",
       " '2234',\n",
       " '2236',\n",
       " '2237',\n",
       " '2239',\n",
       " '2240',\n",
       " '2241',\n",
       " '2242',\n",
       " '2243',\n",
       " '2245',\n",
       " '2247',\n",
       " '2248',\n",
       " '2249',\n",
       " '2250',\n",
       " '2252',\n",
       " '2253',\n",
       " '2260',\n",
       " '2261',\n",
       " '2262',\n",
       " '2264',\n",
       " '2268',\n",
       " '2269',\n",
       " '2277',\n",
       " '2278',\n",
       " '2279',\n",
       " '2281',\n",
       " '2282',\n",
       " '2288',\n",
       " '2289',\n",
       " '2290',\n",
       " '2291',\n",
       " '2292',\n",
       " '2293',\n",
       " '2295',\n",
       " '2296',\n",
       " '2297',\n",
       " '2298',\n",
       " '2299',\n",
       " '2301',\n",
       " '2308',\n",
       " '2312',\n",
       " '2316',\n",
       " '2317',\n",
       " '2321',\n",
       " '2324',\n",
       " '2325',\n",
       " '2326',\n",
       " '2328',\n",
       " '2331',\n",
       " '2332',\n",
       " '2333',\n",
       " ...]"
      ]
     },
     "execution_count": 5,
     "metadata": {},
     "output_type": "execute_result"
    }
   ],
   "source": [
    "dataset.indices"
   ]
  },
  {
   "cell_type": "markdown",
   "metadata": {},
   "source": [
    "### Split data into training and test data"
   ]
  },
  {
   "cell_type": "code",
   "execution_count": 6,
   "metadata": {},
   "outputs": [],
   "source": [
    "from sklearn.model_selection import train_test_split\n",
    "X_train, X_test, y_train, y_test = train_test_split(X, y, test_size = 0.2, random_state = 0)"
   ]
  },
  {
   "cell_type": "code",
   "execution_count": 8,
   "metadata": {},
   "outputs": [],
   "source": [
    "from sklearn.model_selection import train_test_split\n",
    "X_train, X_test, indices_train, indices_test = train_test_split(X, dataset.indices, test_size = 0.2, random_state = 0)"
   ]
  },
  {
   "cell_type": "markdown",
   "metadata": {
    "colab_type": "text",
    "id": "MvE-heJNo3GG"
   },
   "source": [
    "### Preprocessing the Training set"
   ]
  },
  {
   "cell_type": "code",
   "execution_count": 73,
   "metadata": {
    "colab": {},
    "colab_type": "code",
    "id": "0koUcJMJpEBD"
   },
   "outputs": [],
   "source": [
    "train_datagen = ImageDataGenerator(rescale = 1./(2**14))\n",
    "training_set = train_datagen.flow(x=X_train, y=y_train)\n",
    "#training_set = train_datagen.flow_from_directory('dataset/training_set',\n",
    "#                                                 target_size = (30, 30),\n",
    "#                                                 batch_size = 32,\n",
    "#                                                 class_mode = 'binary')"
   ]
  },
  {
   "cell_type": "markdown",
   "metadata": {
    "colab_type": "text",
    "id": "mrCMmGw9pHys"
   },
   "source": [
    "### Preprocessing the Test set"
   ]
  },
  {
   "cell_type": "code",
   "execution_count": 74,
   "metadata": {
    "colab": {},
    "colab_type": "code",
    "id": "SH4WzfOhpKc3"
   },
   "outputs": [],
   "source": [
    "test_datagen = ImageDataGenerator(rescale = 1./(2**14))\n",
    "test_set = test_datagen.flow(x=X_test, y=y_test)\n",
    "#test_set = test_datagen.flow_from_directory('dataset/test_set',\n",
    "#                                            target_size = (30, 30),\n",
    "#                                            batch_size = 32,\n",
    "#                                            class_mode = 'binary')"
   ]
  },
  {
   "cell_type": "markdown",
   "metadata": {
    "colab_type": "text",
    "id": "af8O4l90gk7B"
   },
   "source": [
    "## Part 2 - Building the CNN"
   ]
  },
  {
   "cell_type": "markdown",
   "metadata": {
    "colab_type": "text",
    "id": "ces1gXY2lmoX"
   },
   "source": [
    "### Initialising the CNN"
   ]
  },
  {
   "cell_type": "code",
   "execution_count": 82,
   "metadata": {
    "colab": {},
    "colab_type": "code",
    "id": "SAUt4UMPlhLS"
   },
   "outputs": [],
   "source": [
    "cnn = tf.keras.models.Sequential()"
   ]
  },
  {
   "cell_type": "markdown",
   "metadata": {
    "colab_type": "text",
    "id": "u5YJj_XMl5LF"
   },
   "source": [
    "### Step 1 - Convolution"
   ]
  },
  {
   "cell_type": "code",
   "execution_count": 83,
   "metadata": {
    "colab": {},
    "colab_type": "code",
    "id": "XPzPrMckl-hV"
   },
   "outputs": [],
   "source": [
    "cnn.add(tf.keras.layers.Conv2D(filters=16, kernel_size=5, activation='relu', input_shape=[30, 30, 4]))"
   ]
  },
  {
   "cell_type": "markdown",
   "metadata": {
    "colab_type": "text",
    "id": "tf87FpvxmNOJ"
   },
   "source": [
    "### Step 2 - Pooling"
   ]
  },
  {
   "cell_type": "code",
   "execution_count": 84,
   "metadata": {
    "colab": {},
    "colab_type": "code",
    "id": "ncpqPl69mOac"
   },
   "outputs": [],
   "source": [
    "cnn.add(tf.keras.layers.MaxPool2D(pool_size=2, strides=2))"
   ]
  },
  {
   "cell_type": "markdown",
   "metadata": {
    "colab_type": "text",
    "id": "xaTOgD8rm4mU"
   },
   "source": [
    "### Adding a second convolutional layer"
   ]
  },
  {
   "cell_type": "code",
   "execution_count": 85,
   "metadata": {
    "colab": {},
    "colab_type": "code",
    "id": "i_-FZjn_m8gk"
   },
   "outputs": [],
   "source": [
    "cnn.add(tf.keras.layers.Conv2D(filters=32, kernel_size=5, activation='relu'))\n",
    "cnn.add(tf.keras.layers.MaxPool2D(pool_size=2, strides=2))"
   ]
  },
  {
   "cell_type": "markdown",
   "metadata": {},
   "source": [
    "### Adding a third convolutional layer"
   ]
  },
  {
   "cell_type": "code",
   "execution_count": 86,
   "metadata": {},
   "outputs": [],
   "source": [
    "cnn.add(tf.keras.layers.Conv2D(filters=64, kernel_size=3, activation='relu'))\n",
    "cnn.add(tf.keras.layers.MaxPool2D(pool_size=2, strides=2))"
   ]
  },
  {
   "cell_type": "markdown",
   "metadata": {
    "colab_type": "text",
    "id": "tmiEuvTunKfk"
   },
   "source": [
    "### Step 3 - Flattening"
   ]
  },
  {
   "cell_type": "code",
   "execution_count": 87,
   "metadata": {
    "colab": {},
    "colab_type": "code",
    "id": "6AZeOGCvnNZn"
   },
   "outputs": [],
   "source": [
    "cnn.add(tf.keras.layers.Flatten())"
   ]
  },
  {
   "cell_type": "markdown",
   "metadata": {
    "colab_type": "text",
    "id": "dAoSECOm203v"
   },
   "source": [
    "### Step 4 - Full Connection"
   ]
  },
  {
   "cell_type": "code",
   "execution_count": 88,
   "metadata": {
    "colab": {},
    "colab_type": "code",
    "id": "8GtmUlLd26Nq"
   },
   "outputs": [],
   "source": [
    "cnn.add(tf.keras.layers.Dense(units=128, activation='relu'))"
   ]
  },
  {
   "cell_type": "markdown",
   "metadata": {
    "colab_type": "text",
    "id": "yTldFvbX28Na"
   },
   "source": [
    "### Step 5 - Output Layer"
   ]
  },
  {
   "cell_type": "code",
   "execution_count": 89,
   "metadata": {
    "colab": {},
    "colab_type": "code",
    "id": "1p_Zj1Mc3Ko_"
   },
   "outputs": [],
   "source": [
    "cnn.add(tf.keras.layers.Dense(units=1, activation='sigmoid'))"
   ]
  },
  {
   "cell_type": "markdown",
   "metadata": {
    "colab_type": "text",
    "id": "D6XkI90snSDl"
   },
   "source": [
    "## Part 3 - Training the CNN"
   ]
  },
  {
   "cell_type": "markdown",
   "metadata": {
    "colab_type": "text",
    "id": "vfrFQACEnc6i"
   },
   "source": [
    "### Compiling the CNN"
   ]
  },
  {
   "cell_type": "code",
   "execution_count": 90,
   "metadata": {
    "colab": {},
    "colab_type": "code",
    "id": "NALksrNQpUlJ"
   },
   "outputs": [],
   "source": [
    "cnn.compile(optimizer = 'adam', loss = 'binary_crossentropy', metrics = ['accuracy'])"
   ]
  },
  {
   "cell_type": "markdown",
   "metadata": {
    "colab_type": "text",
    "id": "ehS-v3MIpX2h"
   },
   "source": [
    "### Training the CNN on the Training set and evaluating it on the Test set"
   ]
  },
  {
   "cell_type": "code",
   "execution_count": 92,
   "metadata": {
    "colab": {},
    "colab_type": "code",
    "id": "XUj1W4PJptta"
   },
   "outputs": [
    {
     "name": "stdout",
     "output_type": "stream",
     "text": [
      "WARNING:tensorflow:sample_weight modes were coerced from\n",
      "  ...\n",
      "    to  \n",
      "  ['...']\n",
      "WARNING:tensorflow:sample_weight modes were coerced from\n",
      "  ...\n",
      "    to  \n",
      "  ['...']\n",
      "Train for 236 steps, validate for 59 steps\n",
      "Epoch 1/10\n",
      "236/236 [==============================] - 20s 86ms/step - loss: 0.1831 - accuracy: 0.9388 - val_loss: 0.0853 - val_accuracy: 0.9751\n",
      "Epoch 2/10\n",
      "236/236 [==============================] - 20s 85ms/step - loss: 0.0651 - accuracy: 0.9800 - val_loss: 0.0520 - val_accuracy: 0.9851\n",
      "Epoch 3/10\n",
      "236/236 [==============================] - 20s 86ms/step - loss: 0.0450 - accuracy: 0.9869 - val_loss: 0.0465 - val_accuracy: 0.9846\n",
      "Epoch 4/10\n",
      "236/236 [==============================] - 19s 82ms/step - loss: 0.0366 - accuracy: 0.9882 - val_loss: 0.0425 - val_accuracy: 0.9862\n",
      "Epoch 5/10\n",
      "236/236 [==============================] - 20s 85ms/step - loss: 0.0285 - accuracy: 0.9918 - val_loss: 0.0375 - val_accuracy: 0.9878\n",
      "Epoch 6/10\n",
      "236/236 [==============================] - 20s 84ms/step - loss: 0.0201 - accuracy: 0.9942 - val_loss: 0.0343 - val_accuracy: 0.9878\n",
      "Epoch 7/10\n",
      "236/236 [==============================] - 21s 89ms/step - loss: 0.0218 - accuracy: 0.9938 - val_loss: 0.0357 - val_accuracy: 0.9851\n",
      "Epoch 8/10\n",
      "236/236 [==============================] - 20s 86ms/step - loss: 0.0183 - accuracy: 0.9939 - val_loss: 0.0344 - val_accuracy: 0.9878\n",
      "Epoch 9/10\n",
      "236/236 [==============================] - 20s 85ms/step - loss: 0.0136 - accuracy: 0.9959 - val_loss: 0.0188 - val_accuracy: 0.9942\n",
      "Epoch 10/10\n",
      "236/236 [==============================] - 20s 83ms/step - loss: 0.0088 - accuracy: 0.9979 - val_loss: 0.0196 - val_accuracy: 0.9936\n"
     ]
    },
    {
     "data": {
      "text/plain": [
       "<tensorflow.python.keras.callbacks.History at 0x7f2f2dd6a390>"
      ]
     },
     "execution_count": 92,
     "metadata": {},
     "output_type": "execute_result"
    }
   ],
   "source": [
    "cnn.fit(x = training_set, validation_data = test_set, epochs = 10)"
   ]
  },
  {
   "cell_type": "markdown",
   "metadata": {
    "colab_type": "text",
    "id": "U3PZasO0006Z"
   },
   "source": [
    "## Part 4 - Making a single prediction"
   ]
  },
  {
   "cell_type": "code",
   "execution_count": null,
   "metadata": {
    "colab": {},
    "colab_type": "code",
    "id": "gsSiWEJY1BPB"
   },
   "outputs": [],
   "source": [
    "import numpy as np\n",
    "from keras.preprocessing import image\n",
    "test_image = image.load_img('dataset/single_prediction/cat_or_dog_1.jpg', target_size = (64, 64))\n",
    "test_image = image.img_to_array(test_image)\n",
    "test_image = np.expand_dims(test_image, axis = 0)\n",
    "result = cnn.predict(test_image)\n",
    "training_set.class_indices\n",
    "if result[0][0] == 1:\n",
    "  prediction = 'dog'\n",
    "else:\n",
    "  prediction = 'cat'"
   ]
  },
  {
   "cell_type": "code",
   "execution_count": 35,
   "metadata": {},
   "outputs": [],
   "source": [
    "import numpy as np\n",
    "test_image = np.expand_dims(X_test[0], axis = 0)\n",
    "result = cnn.predict(test_image)"
   ]
  },
  {
   "cell_type": "code",
   "execution_count": 36,
   "metadata": {},
   "outputs": [
    {
     "data": {
      "text/plain": [
       "array([[0.]], dtype=float32)"
      ]
     },
     "execution_count": 36,
     "metadata": {},
     "output_type": "execute_result"
    }
   ],
   "source": []
  },
  {
   "cell_type": "code",
   "execution_count": null,
   "metadata": {
    "colab": {},
    "colab_type": "code",
    "id": "ED9KB3I54c1i"
   },
   "outputs": [],
   "source": [
    "print(prediction)"
   ]
  },
  {
   "cell_type": "markdown",
   "metadata": {},
   "source": [
    "## Part 5 - Confusion Matrix"
   ]
  },
  {
   "cell_type": "code",
   "execution_count": 44,
   "metadata": {
    "scrolled": true
   },
   "outputs": [
    {
     "name": "stdout",
     "output_type": "stream",
     "text": [
      "[[0]\n",
      " [1]\n",
      " [1]\n",
      " ...\n",
      " [1]\n",
      " [1]\n",
      " [1]]\n"
     ]
    }
   ],
   "source": [
    "y_pred = cnn.predict(X_test)\n",
    "y_pred = y_pred.astype(int)\n",
    "\n",
    "print(y_pred)"
   ]
  },
  {
   "cell_type": "code",
   "execution_count": 45,
   "metadata": {
    "scrolled": true
   },
   "outputs": [
    {
     "name": "stdout",
     "output_type": "stream",
     "text": [
      "[[ 705  134]\n",
      " [   1 1044]]\n"
     ]
    },
    {
     "data": {
      "text/plain": [
       "0.928343949044586"
      ]
     },
     "execution_count": 45,
     "metadata": {},
     "output_type": "execute_result"
    }
   ],
   "source": [
    "from sklearn.metrics import confusion_matrix, accuracy_score\n",
    "cm = confusion_matrix(y_test, y_pred)\n",
    "print(cm)\n",
    "accuracy_score(y_test, y_pred)"
   ]
  },
  {
   "cell_type": "markdown",
   "metadata": {},
   "source": [
    "## Part 6 - Data investigation"
   ]
  },
  {
   "cell_type": "markdown",
   "metadata": {},
   "source": [
    "Folders in selection_no_windturbines category_2_300m_30p = 4263\n",
    "Folders in uswtdb_selection_windturbines category_2_300m_30p = 3678\n",
    "Folders in uswtdb_selection_windturbines category_3_300m_30p = 5158\n",
    "\n",
    "--------------------------------------------------------------------------------------------------------\n",
    "\n",
    "For this test in total 4263 (-1 for 0_combined preview) + 5158 (-1 for 0_combined preview) = 9419"
   ]
  },
  {
   "cell_type": "code",
   "execution_count": 55,
   "metadata": {},
   "outputs": [
    {
     "data": {
      "text/plain": [
       "(1884, 30, 30, 4)"
      ]
     },
     "execution_count": 55,
     "metadata": {},
     "output_type": "execute_result"
    }
   ],
   "source": [
    "X_test.shape"
   ]
  },
  {
   "cell_type": "code",
   "execution_count": 56,
   "metadata": {},
   "outputs": [
    {
     "data": {
      "text/plain": [
       "(7535, 30, 30, 4)"
      ]
     },
     "execution_count": 56,
     "metadata": {},
     "output_type": "execute_result"
    }
   ],
   "source": [
    "X_train.shape"
   ]
  },
  {
   "cell_type": "code",
   "execution_count": 57,
   "metadata": {},
   "outputs": [
    {
     "data": {
      "text/plain": [
       "(9419, 30, 30, 4)"
      ]
     },
     "execution_count": 57,
     "metadata": {},
     "output_type": "execute_result"
    }
   ],
   "source": [
    "X.shape"
   ]
  }
 ],
 "metadata": {
  "colab": {
   "collapsed_sections": [],
   "name": "convolutional_neural_network.ipynb",
   "provenance": [],
   "toc_visible": true
  },
  "kernelspec": {
   "display_name": "Python [conda env:.conda-machine_learning]",
   "language": "python",
   "name": "conda-env-.conda-machine_learning-py"
  },
  "language_info": {
   "codemirror_mode": {
    "name": "ipython",
    "version": 3
   },
   "file_extension": ".py",
   "mimetype": "text/x-python",
   "name": "python",
   "nbconvert_exporter": "python",
   "pygments_lexer": "ipython3",
   "version": "3.6.12"
  }
 },
 "nbformat": 4,
 "nbformat_minor": 2
}
